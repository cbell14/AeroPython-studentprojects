{
 "metadata": {
  "name": "",
  "signature": "sha256:d8d029696ab34ef5016656cf6baa84178105b3f1c2653c2eae51aaf2c9b6ba35"
 },
 "nbformat": 3,
 "nbformat_minor": 0,
 "worksheets": [
  {
   "cells": [
    {
     "cell_type": "code",
     "collapsed": false,
     "input": [
      "import math\n",
      "import numpy\n",
      "import sympy\n",
      "from matplotlib import pyplot\n",
      "% matplotlib inline\n",
      "import csv"
     ],
     "language": "python",
     "metadata": {},
     "outputs": [],
     "prompt_number": 2
    },
    {
     "cell_type": "code",
     "collapsed": false,
     "input": [
      "# This cell imports and plots the five airfoil variants of the Boeing 707.\n",
      "#####import the first airfoil 707a#####\n",
      "file_name = './b707a.txt' \n",
      "x,y = numpy.loadtxt(file_name,dtype=float,unpack=True )\n",
      "#Rearrange data into format that is expected from Barba's team code\n",
      "L = len(x);\n",
      "xpart1 = x[0:L/2];\n",
      "xpart2 = xpart1[::-1]\n",
      "xcont = numpy.linspace(0,L,L)\n",
      "xcont[:L/2]=xpart2;\n",
      "xcont[L/2:]=x[L/2:]\n",
      "x[0:L] = xcont[0:L]\n",
      "ypart1 = y[0:L/2];\n",
      "ypart2 = ypart1[::-1]\n",
      "ycont = numpy.linspace(0,L,L)\n",
      "ycont[:L/2]=ypart2;\n",
      "ycont[L/2:]=y[L/2:]\n",
      "y[0:L] = ycont[0:L]"
     ],
     "language": "python",
     "metadata": {},
     "outputs": [],
     "prompt_number": 3
    },
    {
     "cell_type": "code",
     "collapsed": false,
     "input": [
      "dataA = numpy.zeros((122,2));\n",
      "\n",
      "dataA.shape"
     ],
     "language": "python",
     "metadata": {},
     "outputs": [
      {
       "metadata": {},
       "output_type": "pyout",
       "prompt_number": 29,
       "text": [
        "(122L, 2L)"
       ]
      }
     ],
     "prompt_number": 29
    },
    {
     "cell_type": "code",
     "collapsed": false,
     "input": [
      "dataA[:,0] = x[:];\n",
      "dataA[:,0] = y[:];"
     ],
     "language": "python",
     "metadata": {},
     "outputs": [],
     "prompt_number": 30
    },
    {
     "cell_type": "code",
     "collapsed": false,
     "input": [
      "numpy.savetxt('./dataA.txt',dataA,delimiter =',')"
     ],
     "language": "python",
     "metadata": {},
     "outputs": [],
     "prompt_number": 24
    },
    {
     "cell_type": "code",
     "collapsed": false,
     "input": [
      "? datawriter"
     ],
     "language": "python",
     "metadata": {},
     "outputs": [],
     "prompt_number": 9
    },
    {
     "cell_type": "code",
     "collapsed": false,
     "input": [],
     "language": "python",
     "metadata": {},
     "outputs": []
    }
   ],
   "metadata": {}
  }
 ]
}